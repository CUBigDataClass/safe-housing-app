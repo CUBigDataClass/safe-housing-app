{
 "cells": [
  {
   "cell_type": "markdown",
   "metadata": {},
   "source": [
    "**Creating the School Index API using DataSet**"
   ]
  },
  {
   "cell_type": "code",
   "execution_count": null,
   "metadata": {},
   "outputs": [],
   "source": [
    "import pandas as pd\n"
   ]
  },
  {
   "cell_type": "code",
   "execution_count": null,
   "metadata": {},
   "outputs": [],
   "source": [
    "df= pd.read_excel(\"school2.xlsx\")\n",
    "df.head()"
   ]
  },
  {
   "cell_type": "code",
   "execution_count": null,
   "metadata": {},
   "outputs": [],
   "source": [
    "df_new = df.iloc[:][['NAME','STREET','CITY','STATE','ZIP', 'LAT','LON']]"
   ]
  },
  {
   "cell_type": "code",
   "execution_count": null,
   "metadata": {},
   "outputs": [],
   "source": [
    "df_new.tail()"
   ]
  },
  {
   "cell_type": "code",
   "execution_count": null,
   "metadata": {},
   "outputs": [],
   "source": [
    "school_list2=[]\n",
    "school_list2=df_new.values.tolist()\n",
    "print(school_list2)"
   ]
  },
  {
   "cell_type": "code",
   "execution_count": null,
   "metadata": {},
   "outputs": [],
   "source": [
    "import pymongo\n",
    "from pymongo import MongoClient\n",
    "client = MongoClient(\"34.83.108.19\",27017)\n",
    "db = client['gradHousing']\n",
    "    \n",
    "for i in range(len(school_list2)):\n",
    "    article = {\"school_name\": school_list2[i][0],\n",
    "            \"street_address\": school_list2[i][1],\n",
    "            \"city\": school_list2[i][2],\n",
    "            \"state\":school_list2[i][3],\n",
    "            \"zip\":school_list2[i][4],  \n",
    "             \"loc\": {\"type\":\"Point\",\n",
    "                     \"coordinates\":[school_list2[i][6],school_list2[i][5]]},}\n",
    "    articles = db.school\n",
    "    result = articles.insert_one(article)"
   ]
  },
  {
   "cell_type": "markdown",
   "metadata": {},
   "source": [
    "**Data for crime and safety index**"
   ]
  },
  {
   "cell_type": "code",
   "execution_count": null,
   "metadata": {},
   "outputs": [],
   "source": [
    "df_crime= pd.read_excel(\"crimeindex.xlsx\")\n",
    "df_crime.head()"
   ]
  },
  {
   "cell_type": "code",
   "execution_count": null,
   "metadata": {},
   "outputs": [],
   "source": [
    "city_list=[]\n",
    "city_list=df.values.tolist()\n",
    "print(city_list)\n"
   ]
  },
  {
   "cell_type": "code",
   "execution_count": null,
   "metadata": {},
   "outputs": [],
   "source": [
    "import pymongo\n",
    "from pymongo import MongoClient\n",
    "client = MongoClient(\"34.83.108.19\",27017)\n",
    "db = client['gradHousing']\n",
    "    \n",
    "for i in range(len(city_list)):\n",
    "    article = {\"crime_index\":city_list[i][1] ,\n",
    "            \"safety_index\": city_list[i][2],\n",
    "            \"city\": city_list[i][3],\n",
    "             \"state\":city_list[i][4],  \n",
    "            }\n",
    "    articles = db.crimescore\n",
    "    result = articles.insert_one(article)"
   ]
  },
  {
   "cell_type": "markdown",
   "metadata": {},
   "source": [
    "**Data for Transit score**"
   ]
  },
  {
   "cell_type": "code",
   "execution_count": null,
   "metadata": {},
   "outputs": [],
   "source": [
    "df_transit= pd.read_csv(\"transitscore.csv\")\n",
    "df_transit.head()"
   ]
  },
  {
   "cell_type": "code",
   "execution_count": null,
   "metadata": {},
   "outputs": [],
   "source": [
    "city_list_walkscore=[]\n",
    "city_list_walkscore=df_transit.values.tolist()\n",
    "print(city_list_walkscore)"
   ]
  },
  {
   "cell_type": "code",
   "execution_count": null,
   "metadata": {},
   "outputs": [],
   "source": [
    "for i in range(len(city_list_walkscore)):\n",
    "    article = {\"walk_score\":city_list_walkscore[i][2] ,\n",
    "            \"transit_score\": city_list_walkscore[i][4],\n",
    "            \"city\": city_list_walkscore[i][0],\n",
    "             \"state\":city_list_walkscore[i][1],  \n",
    "            }\n",
    "    articles = db.walkscore\n",
    "    result = articles.insert_one(article)"
   ]
  },
  {
   "cell_type": "code",
   "execution_count": null,
   "metadata": {},
   "outputs": [],
   "source": []
  }
 ],
 "metadata": {
  "kernelspec": {
   "display_name": "Python 3",
   "language": "python",
   "name": "python3"
  },
  "language_info": {
   "codemirror_mode": {
    "name": "ipython",
    "version": 3
   },
   "file_extension": ".py",
   "mimetype": "text/x-python",
   "name": "python",
   "nbconvert_exporter": "python",
   "pygments_lexer": "ipython3",
   "version": "3.7.6"
  }
 },
 "nbformat": 4,
 "nbformat_minor": 4
}
